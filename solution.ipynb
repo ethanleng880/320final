{
 "cells": [
  {
   "cell_type": "markdown",
   "metadata": {},
   "source": [
    "# The Data Science Pipeline"
   ]
  },
  {
   "cell_type": "markdown",
   "metadata": {},
   "source": [
    "## 1. Introduction\n",
    "This tutorial will walk you through a whole process of the Data Science Pipeline, which includes (1) *Data collection*, (2) *Data representation*, (3) *Exploratory data analysis*, (4) *Hypothesis testing and machine learning*, and (5) *Communication of insights attained*. The dataset we chose is the data related to India financial market. This is because we interests in the topic about Indian financial market, and trying to explore the relationships between the India stock market and (a) India's GDP, (b) India's interest rate, (c) India's exchange rate, as well as (d) the U.S's stock market index. In the next tutorail, we will first load the data from several sources; secondly tidy the datasets and deal with missing values; thirdly, perform exploratory data analysis (EDA); fourthly, examine the relations which are found in last step (EDA) using Hypothesis Testing; and lastly, build a Machine Learning model to predict the India's stock market index. The India financial market topic will help us to go through the Data Science Pipeline, hope you enjoy it!"
   ]
  },
  {
   "cell_type": "markdown",
   "metadata": {},
   "source": [
    "## 2. Set Up\n",
    "To perform this data analysis, some libaries will be highly useful in the following steps. Significantly, *pandas* will help us to import data and carry out some data pre-processing, *numpy* is expert at mitrix calcualtion, *matplotlib.pyplot* provides a MATLAB-like way of plotting, and *sklearn* features various classification, regression and clustering algorithms including support vector machines, random forests, gradient boosting, k-means and DBSCAN."
   ]
  },
  {
   "cell_type": "code",
   "execution_count": 240,
   "metadata": {},
   "outputs": [],
   "source": [
    "import pandas as pd\n",
    "import numpy as np\n",
    "import seaborn as sns\n",
    "import missingno as msno\n",
    "import matplotlib.pyplot as plt\n",
    "# from sklearn.linear_model import LinearRegression\n",
    "# from statsmodels.formula.api import logit\n",
    "import statsmodels.api as sm\n",
    "import re\n",
    "import sklearn.ensemble\n",
    "import sklearn.model_selection\n",
    "import sklearn.metrics\n",
    "import sklearn.linear_model\n",
    "plt.style.use('seaborn')"
   ]
  },
  {
   "cell_type": "markdown",
   "metadata": {},
   "source": [
    "## 3. Loading Data\n",
    "The data we used in this tutorial is mainly from 5 socuses, \\\n",
    "(1) NIFTY 500 Index (2000-2019) -- **a_nifty500index**, which is the India's stock market index data. In other words, it is the data we would like to predict. There are a lot of features/columns in this table but we only use the *close value* column. \\\n",
    "(2) GDP PPP of India (2000-2019) -- **b_GDP**, which is the India's GDP data. This table contains all countries' GDP information while we only take the India ones. \\\n",
    "(3) Real interest rate of India (2000-2019) -- **c_realInterestRate**, which is the India's interest rate data.\n",
    "(4) The exchange rate of the Indian Rupee(INR)(2000-2019) -- **d_exchangeRate**, which is the India's exchange rate data. \\\n",
    "(5) The S & P 500 Index (2000-2019) -- **e_SP500index**, pick the SP500 column from this table as the U.S's stock market index. "
   ]
  },
  {
   "cell_type": "code",
   "execution_count": 191,
   "metadata": {},
   "outputs": [],
   "source": [
    "# India stock market\n",
    "a_nifty500index = pd.read_csv('dataset/a_NIFTY 500 Index (2000-2019).csv')\n",
    "# GDP\n",
    "b_GDP = pd.read_csv('dataset/b_GDP PPP of India (2000-2019).csv')\n",
    "# interest rate\n",
    "c_realInterestRate = pd.read_csv('dataset/c_Real interest rate of India (2000-2019).csv')\n",
    "# exchange rate\n",
    "d_exchangeRate = pd.read_csv('dataset/d_The exchange rate of the Indian Rupee(INR)(2000-2018)_annual.csv')\n",
    "# US stock market\n",
    "e_SP500index = pd.read_csv('dataset/e_The S & P 500 Index (2000-2019).csv')"
   ]
  },
  {
   "cell_type": "markdown",
   "metadata": {},
   "source": [
    "## 4. Tidy Data\n",
    "### 4.1. Feature Selection\n",
    "According to the section 3, we do not need to include all columns in those tables. To simplify the data, we only keep the data we needed. Note that we will keep all Date columns in each table since they will help us to join these tables together.\\\n",
    "For a_nifty500index, only take columns *Date* and *Close*. Select *Date* and *SP500* in table e_SP500index, also consider the data should start from 2000. It becomes a little bit tricky when it comes to b_GDP, we first select the row related to India, then transpose the table, and lastly pick *year* and *gdp* columns. Roughly the same situation of c_realInterestRate with b_GDP, except that the years need to be extracted from strings. Lastly, in case of d_exchangeRate, no column selection need to be performed since it contains only the features we wanted. "
   ]
  },
  {
   "cell_type": "code",
   "execution_count": 192,
   "metadata": {},
   "outputs": [],
   "source": [
    "# only take Columns 'Date' and 'Close'\n",
    "a_nifty500index = a_nifty500index[['Date', 'Close']]\n",
    "# only take 'Date' and 'SP500', also the data should start from 2000.\n",
    "e_SP500index = e_SP500index[['Date', 'SP500']][e_SP500index['Date']>'2000']"
   ]
  },
  {
   "cell_type": "code",
   "execution_count": 193,
   "metadata": {},
   "outputs": [],
   "source": [
    "# select row\n",
    "b_GDP = b_GDP[b_GDP['Country ']=='India'].T[2:].reset_index()\n",
    "# create year column\n",
    "b_GDP['year'] = b_GDP['index']\n",
    "# create gdp column\n",
    "b_GDP['gdp'] = b_GDP[103].values\n",
    "# pick columns\n",
    "b_GDP = b_GDP[['year', 'gdp']]\n",
    "# change the datatype of gdp to float\n",
    "b_GDP = b_GDP.astype({\"gdp\": float})"
   ]
  },
  {
   "cell_type": "code",
   "execution_count": 194,
   "metadata": {},
   "outputs": [],
   "source": [
    "c_realInterestRate = c_realInterestRate[c_realInterestRate['Country Name']=='India'].T[5:].reset_index()\n",
    "c_realInterestRate['year'] =  [x[:4] for x in c_realInterestRate['index'].values]\n",
    "c_realInterestRate['interestRate'] = c_realInterestRate[0]\n",
    "c_realInterestRate = c_realInterestRate[['year', 'interestRate']]"
   ]
  },
  {
   "cell_type": "code",
   "execution_count": 195,
   "metadata": {},
   "outputs": [],
   "source": [
    "d_exchangeRate['year'] = d_exchangeRate['Date']\n",
    "d_exchangeRate = d_exchangeRate[['year', ' INR/USD-Average']]\n",
    "d_exchangeRate = d_exchangeRate.astype({\"year\": str})"
   ]
  },
  {
   "cell_type": "markdown",
   "metadata": {},
   "source": [
    "### 4.2. Joining tables by year\n",
    "Before preforming the joining operation, we have to unify some column names to find the connection columns this is, the foreign keys in database.\\\n",
    "To do this, we will add a year column to **a_nifty500index** and **e_SP500index**."
   ]
  },
  {
   "cell_type": "code",
   "execution_count": 196,
   "metadata": {},
   "outputs": [],
   "source": [
    "a_nifty500index['year'] = [x[:4] for x in a_nifty500index['Date'].values]\n",
    "e_SP500index['year'] = [x[:4] for x in e_SP500index['Date'].values]"
   ]
  },
  {
   "cell_type": "markdown",
   "metadata": {},
   "source": [
    "Firstly, merge a_nifty500index and e_SP500index as all_df by *Date*. We use inner join here because that a_nifty500index and e_SP500index contain most of the data."
   ]
  },
  {
   "cell_type": "code",
   "execution_count": 197,
   "metadata": {},
   "outputs": [],
   "source": [
    "all_df = pd.merge(a_nifty500index, e_SP500index, how=\"inner\", on=[\"Date\", \"year\"])"
   ]
  },
  {
   "cell_type": "markdown",
   "metadata": {},
   "source": [
    "Then successively merge all_df with b_GDP, c_realInterestRate and d_exchangeRate by *year*."
   ]
  },
  {
   "cell_type": "code",
   "execution_count": 198,
   "metadata": {},
   "outputs": [],
   "source": [
    "all_df = pd.merge(all_df, b_GDP, how=\"left\", on=[\"year\"])"
   ]
  },
  {
   "cell_type": "code",
   "execution_count": 199,
   "metadata": {},
   "outputs": [],
   "source": [
    "all_df = pd.merge(all_df, c_realInterestRate, how=\"left\", on=[\"year\"])\n",
    "all_df = pd.merge(all_df, d_exchangeRate, how=\"left\", on=[\"year\"])"
   ]
  },
  {
   "cell_type": "markdown",
   "metadata": {},
   "source": [
    "## 5. Missing Value\n",
    "In section 4, we talked about that a_nifty500index and e_SP500index are merged by inner join, and then left join with other tables. Therefore, there should be no missing values from a_nifty500index and e_SP500index. In other words, the missing values are mainly caused by columns from 3 other tables. Let check the missing values first."
   ]
  },
  {
   "cell_type": "markdown",
   "metadata": {},
   "source": [
    "#### Check Missing values"
   ]
  },
  {
   "cell_type": "code",
   "execution_count": 200,
   "metadata": {},
   "outputs": [
    {
     "data": {
      "text/html": [
       "<div>\n",
       "<style scoped>\n",
       "    .dataframe tbody tr th:only-of-type {\n",
       "        vertical-align: middle;\n",
       "    }\n",
       "\n",
       "    .dataframe tbody tr th {\n",
       "        vertical-align: top;\n",
       "    }\n",
       "\n",
       "    .dataframe thead th {\n",
       "        text-align: right;\n",
       "    }\n",
       "</style>\n",
       "<table border=\"1\" class=\"dataframe\">\n",
       "  <thead>\n",
       "    <tr style=\"text-align: right;\">\n",
       "      <th></th>\n",
       "      <th>#Missing Values</th>\n",
       "    </tr>\n",
       "  </thead>\n",
       "  <tbody>\n",
       "    <tr>\n",
       "      <th>Date</th>\n",
       "      <td>0</td>\n",
       "    </tr>\n",
       "    <tr>\n",
       "      <th>Close</th>\n",
       "      <td>0</td>\n",
       "    </tr>\n",
       "    <tr>\n",
       "      <th>year</th>\n",
       "      <td>0</td>\n",
       "    </tr>\n",
       "    <tr>\n",
       "      <th>SP500</th>\n",
       "      <td>0</td>\n",
       "    </tr>\n",
       "    <tr>\n",
       "      <th>gdp</th>\n",
       "      <td>0</td>\n",
       "    </tr>\n",
       "    <tr>\n",
       "      <th>interestRate</th>\n",
       "      <td>76</td>\n",
       "    </tr>\n",
       "    <tr>\n",
       "      <th>INR/USD-Average</th>\n",
       "      <td>0</td>\n",
       "    </tr>\n",
       "  </tbody>\n",
       "</table>\n",
       "</div>"
      ],
      "text/plain": [
       "                  #Missing Values\n",
       "Date                            0\n",
       "Close                           0\n",
       "year                            0\n",
       "SP500                           0\n",
       "gdp                             0\n",
       "interestRate                   76\n",
       " INR/USD-Average                0"
      ]
     },
     "execution_count": 200,
     "metadata": {},
     "output_type": "execute_result"
    }
   ],
   "source": [
    "missing_count_df = pd.DataFrame(all_df.isna().sum(),columns=[\"#Missing Values\"])\n",
    "missing_count_df"
   ]
  },
  {
   "cell_type": "markdown",
   "metadata": {},
   "source": [
    "Only interestRate has 76 missing values. Now we could focus on this specific column. \\\n",
    "(1) Display all posible values of interestR. \\\n",
    "(2) Plot the distribution of interestR."
   ]
  },
  {
   "cell_type": "code",
   "execution_count": 201,
   "metadata": {},
   "outputs": [
    {
     "data": {
      "text/html": [
       "<div>\n",
       "<style scoped>\n",
       "    .dataframe tbody tr th:only-of-type {\n",
       "        vertical-align: middle;\n",
       "    }\n",
       "\n",
       "    .dataframe tbody tr th {\n",
       "        vertical-align: top;\n",
       "    }\n",
       "\n",
       "    .dataframe thead th {\n",
       "        text-align: right;\n",
       "    }\n",
       "</style>\n",
       "<table border=\"1\" class=\"dataframe\">\n",
       "  <thead>\n",
       "    <tr style=\"text-align: right;\">\n",
       "      <th></th>\n",
       "      <th>year</th>\n",
       "      <th>interestRate</th>\n",
       "    </tr>\n",
       "  </thead>\n",
       "  <tbody>\n",
       "    <tr>\n",
       "      <th>0</th>\n",
       "      <td>2000</td>\n",
       "      <td>8.34261</td>\n",
       "    </tr>\n",
       "    <tr>\n",
       "      <th>6</th>\n",
       "      <td>2001</td>\n",
       "      <td>NaN</td>\n",
       "    </tr>\n",
       "    <tr>\n",
       "      <th>13</th>\n",
       "      <td>2002</td>\n",
       "      <td>NaN</td>\n",
       "    </tr>\n",
       "    <tr>\n",
       "      <th>21</th>\n",
       "      <td>2003</td>\n",
       "      <td>NaN</td>\n",
       "    </tr>\n",
       "    <tr>\n",
       "      <th>28</th>\n",
       "      <td>2004</td>\n",
       "      <td>NaN</td>\n",
       "    </tr>\n",
       "    <tr>\n",
       "      <th>37</th>\n",
       "      <td>2005</td>\n",
       "      <td>NaN</td>\n",
       "    </tr>\n",
       "    <tr>\n",
       "      <th>46</th>\n",
       "      <td>2006</td>\n",
       "      <td>NaN</td>\n",
       "    </tr>\n",
       "    <tr>\n",
       "      <th>53</th>\n",
       "      <td>2007</td>\n",
       "      <td>NaN</td>\n",
       "    </tr>\n",
       "    <tr>\n",
       "      <th>59</th>\n",
       "      <td>2008</td>\n",
       "      <td>NaN</td>\n",
       "    </tr>\n",
       "    <tr>\n",
       "      <th>67</th>\n",
       "      <td>2009</td>\n",
       "      <td>NaN</td>\n",
       "    </tr>\n",
       "    <tr>\n",
       "      <th>74</th>\n",
       "      <td>2010</td>\n",
       "      <td>NaN</td>\n",
       "    </tr>\n",
       "    <tr>\n",
       "      <th>82</th>\n",
       "      <td>2011</td>\n",
       "      <td>1.31798</td>\n",
       "    </tr>\n",
       "    <tr>\n",
       "      <th>90</th>\n",
       "      <td>2012</td>\n",
       "      <td>2.47352</td>\n",
       "    </tr>\n",
       "    <tr>\n",
       "      <th>96</th>\n",
       "      <td>2013</td>\n",
       "      <td>3.86599</td>\n",
       "    </tr>\n",
       "    <tr>\n",
       "      <th>104</th>\n",
       "      <td>2014</td>\n",
       "      <td>6.69518</td>\n",
       "    </tr>\n",
       "    <tr>\n",
       "      <th>111</th>\n",
       "      <td>2015</td>\n",
       "      <td>7.55649</td>\n",
       "    </tr>\n",
       "    <tr>\n",
       "      <th>118</th>\n",
       "      <td>2016</td>\n",
       "      <td>6.23271</td>\n",
       "    </tr>\n",
       "    <tr>\n",
       "      <th>128</th>\n",
       "      <td>2017</td>\n",
       "      <td>5.52162</td>\n",
       "    </tr>\n",
       "    <tr>\n",
       "      <th>135</th>\n",
       "      <td>2018</td>\n",
       "      <td>4.68519</td>\n",
       "    </tr>\n",
       "  </tbody>\n",
       "</table>\n",
       "</div>"
      ],
      "text/plain": [
       "     year interestRate\n",
       "0    2000      8.34261\n",
       "6    2001          NaN\n",
       "13   2002          NaN\n",
       "21   2003          NaN\n",
       "28   2004          NaN\n",
       "37   2005          NaN\n",
       "46   2006          NaN\n",
       "53   2007          NaN\n",
       "59   2008          NaN\n",
       "67   2009          NaN\n",
       "74   2010          NaN\n",
       "82   2011      1.31798\n",
       "90   2012      2.47352\n",
       "96   2013      3.86599\n",
       "104  2014      6.69518\n",
       "111  2015      7.55649\n",
       "118  2016      6.23271\n",
       "128  2017      5.52162\n",
       "135  2018      4.68519"
      ]
     },
     "execution_count": 201,
     "metadata": {},
     "output_type": "execute_result"
    }
   ],
   "source": [
    "interestR = all_df[['year', 'interestRate']].drop_duplicates()\n",
    "interestR"
   ]
  },
  {
   "cell_type": "markdown",
   "metadata": {},
   "source": [
    "Above table shows that the values of interest rate are missing from 2001 to 2010."
   ]
  },
  {
   "cell_type": "code",
   "execution_count": 202,
   "metadata": {},
   "outputs": [
    {
     "data": {
      "image/png": "[encoded data removed]",
      "text/plain": [
       "<Figure size 576x396 with 1 Axes>"
      ]
     },
     "metadata": {},
     "output_type": "display_data"
    }
   ],
   "source": [
    "plt.plot(interestR.fillna(0)['year'], interestR['interestRate'], 'go')\n",
    "plt.title('Figure 1 - Distribution of interest rate')\n",
    "plt.xlabel('year')\n",
    "plt.ylabel('interestRate')\n",
    "plt.show()"
   ]
  },
  {
   "cell_type": "markdown",
   "metadata": {},
   "source": [
    "Figure 1 shows that the value of the interest rate increases or decreases linearly. Therefore, one possible stratogy to deal with the missing values is to fill them by applying linear interpolation."
   ]
  },
  {
   "cell_type": "code",
   "execution_count": 203,
   "metadata": {},
   "outputs": [],
   "source": [
    "# change the datatype of interestRate from object to float\n",
    "interestR = interestR.astype({\"interestRate\": float})\n",
    "# apply linear interpolation\n",
    "interestR['interestRate'] = interestR[['interestRate']].interpolate(method='linear', limit_direction='both', limit=100)"
   ]
  },
  {
   "cell_type": "markdown",
   "metadata": {},
   "source": [
    "Join interestR table with all_df by year. Before that, drop the original interestRate column from all_df."
   ]
  },
  {
   "cell_type": "code",
   "execution_count": 204,
   "metadata": {},
   "outputs": [],
   "source": [
    "# drop the interestRate column\n",
    "all_df = all_df.drop('interestRate', axis=1)\n",
    "# merge interestR and all_df table\n",
    "all_df = pd.merge(all_df, interestR, how=\"left\", on=['year'])"
   ]
  },
  {
   "cell_type": "markdown",
   "metadata": {},
   "source": [
    "Check missing value again."
   ]
  },
  {
   "cell_type": "code",
   "execution_count": 205,
   "metadata": {},
   "outputs": [
    {
     "data": {
      "text/html": [
       "<div>\n",
       "<style scoped>\n",
       "    .dataframe tbody tr th:only-of-type {\n",
       "        vertical-align: middle;\n",
       "    }\n",
       "\n",
       "    .dataframe tbody tr th {\n",
       "        vertical-align: top;\n",
       "    }\n",
       "\n",
       "    .dataframe thead th {\n",
       "        text-align: right;\n",
       "    }\n",
       "</style>\n",
       "<table border=\"1\" class=\"dataframe\">\n",
       "  <thead>\n",
       "    <tr style=\"text-align: right;\">\n",
       "      <th></th>\n",
       "      <th>#Missing Values</th>\n",
       "    </tr>\n",
       "  </thead>\n",
       "  <tbody>\n",
       "    <tr>\n",
       "      <th>Date</th>\n",
       "      <td>0</td>\n",
       "    </tr>\n",
       "    <tr>\n",
       "      <th>Close</th>\n",
       "      <td>0</td>\n",
       "    </tr>\n",
       "    <tr>\n",
       "      <th>year</th>\n",
       "      <td>0</td>\n",
       "    </tr>\n",
       "    <tr>\n",
       "      <th>SP500</th>\n",
       "      <td>0</td>\n",
       "    </tr>\n",
       "    <tr>\n",
       "      <th>gdp</th>\n",
       "      <td>0</td>\n",
       "    </tr>\n",
       "    <tr>\n",
       "      <th>INR/USD-Average</th>\n",
       "      <td>0</td>\n",
       "    </tr>\n",
       "    <tr>\n",
       "      <th>interestRate</th>\n",
       "      <td>0</td>\n",
       "    </tr>\n",
       "  </tbody>\n",
       "</table>\n",
       "</div>"
      ],
      "text/plain": [
       "                  #Missing Values\n",
       "Date                            0\n",
       "Close                           0\n",
       "year                            0\n",
       "SP500                           0\n",
       "gdp                             0\n",
       " INR/USD-Average                0\n",
       "interestRate                    0"
      ]
     },
     "execution_count": 205,
     "metadata": {},
     "output_type": "execute_result"
    }
   ],
   "source": [
    "missing_count_df = pd.DataFrame(all_df.isna().sum(),columns=[\"#Missing Values\"])\n",
    "missing_count_df"
   ]
  },
  {
   "cell_type": "markdown",
   "metadata": {},
   "source": [
    "As it shows in above table, there is no missing values in our dataset. Next, we could do some serious data analyzing."
   ]
  },
  {
   "cell_type": "markdown",
   "metadata": {},
   "source": [
    "## 6. Exploratory Data Analysis (EDA)\n",
    "Exploratory Data Analysis is an approach of analyzing data sets to summarize their main characteristics, often using statistical graphics and other data visualization methods. It can be used to detect patterns and make some hypotheses about the data. By applying EDA, we will gain more ideas and information about the data, this could guide us to a further exploration in future.\\\n",
    "In the earlier section, we have mentioned that there are several correlations will be detected in this tutorial. They are\\\n",
    "(1) Nifty 500 vs. GDP PPP India \\\n",
    "(2) Nifty 500 vs. Real Interests Rate of India \\\n",
    "(3) Nifty 500 vs. The Exchange Rate between INR & USD \\\n",
    "(4) Nifty 500 vs. S&P 500. \\\n",
    "In the following part of this section, these correlations will be examined successively."
   ]
  },
  {
   "cell_type": "markdown",
   "metadata": {},
   "source": [
    "The matrix below is a Pearson correlation matrix that shows the correlation scores between each columns/variables included in the dataset (all_df). In the matrix, the darker blue boxes represent variables that are highly correlated with each other, while the lighter blue and green boxes represent less correlation scores between variables. Note that above colors all represent possitive correlations. In contrast, the lighter yellow/cream colored boxes represent variables that are negatively correlated. "
   ]
  },
  {
   "cell_type": "code",
   "execution_count": 212,
   "metadata": {},
   "outputs": [
    {
     "data": {
      "text/plain": [
       "[Text(0, 0.5, 'Close'),\n",
       " Text(0, 1.5, 'SP500'),\n",
       " Text(0, 2.5, 'gdp'),\n",
       " Text(0, 3.5, ' INR/USD-Average'),\n",
       " Text(0, 4.5, 'interestRate')]"
      ]
     },
     "execution_count": 212,
     "metadata": {},
     "output_type": "execute_result"
    },
    {
     "data": {
      "image/png": "[encoded data removed]",
      "text/plain": [
       "<Figure size 1440x792 with 2 Axes>"
      ]
     },
     "metadata": {},
     "output_type": "display_data"
    }
   ],
   "source": [
    "#Correlation Matrix\n",
    "plt.subplots(figsize = (20,11))\n",
    "g = sns.heatmap(all_df.corr(\"pearson\"), annot = True, cmap = \"YlGnBu\", fmt = '.3g', linewidths=.8)\n",
    "\n",
    "g.set_title(\"Correlation Matrix between Columns\")\n",
    "g.set_xticklabels(g.get_xticklabels(), rotation=45, horizontalalignment='right')\n",
    "g.set_yticklabels(g.get_yticklabels(), rotation=45, horizontalalignment='right')"
   ]
  },
  {
   "cell_type": "markdown",
   "metadata": {},
   "source": [
    "The Pearson correlation matrix shows that **Nifty 500** & **GDP PPP India** got the greatest correlative score, which is **0.97**. In other words, **Nifty 500** & **GDP PPP India** are highly correlated to each other. The Pearson score of **Nifty 500** & **S&P 500** (0.874) is the second highest following by the scores of **Nifty 500** & **the Exchange Rate between INR & USD** (0.806) and **Nifty 500** & **real Interests Rate of India** (-0.172).\n",
    "We chose to take a closer look at the least correlated variable (**real Interests Rate of India**) in the following Hypothesis testing part."
   ]
  },
  {
   "cell_type": "markdown",
   "metadata": {},
   "source": [
    "## 7. Hypothesis Testing\n",
    "Now, it is the time to perform a hypothesis testing. Hypothesis testing is a statistical method of determining if our created model is a good fit or not. In general, a hypothesis testing will have two hypotheses: a null hypothesis (*Ho*) and an alternative hypothesis (*Ha*). We want to set up our hypothesis such that we reject the null hypothesis (*Ho*). To understand what is the meaning of rejecting the hypothesis, we have to introduce the significance level. When setting up our experiment, in addition to the hypotheses, we set a significance level. If the p value of our random variable in within our significance level, also known as the rejection level, we reject the null hypothesis. While determining whether to reject your null hypothesis or not, be careful to determine what type of test we are setting up; is it one-tailed or two-tailed? "
   ]
  },
  {
   "cell_type": "markdown",
   "metadata": {},
   "source": [
    "Take our dataset as an example to provide a clear explanation of Hypothesis testing.\\\n",
    "In our case, we state the significance level as 0.05, and then determe whether there is linear relationship for \\\n",
    "(1) Nifty 500 vs. GDP PPP India \\\n",
    "(2) Nifty 500 vs. Real Interests Rate of India \\\n",
    "(3) Nifty 500 vs. The Exchange Rate between INR & USD \\\n",
    "(4) Nifty 500 vs. S&P 500 \\\n",
    "Note that,  we will most likely to only examine the least related pair (**Nifty 500** & **real Interests Rate of India** *-0.172*) and the second least related pair (**Nifty 500** & **the Exchange Rate between INR & USD** *0.806*) using hypothethejs testing. This is because that the linear relationship of other pairs are self-evident if any of the above two pairs is linear relationship."
   ]
  },
  {
   "cell_type": "markdown",
   "metadata": {},
   "source": [
    "#### Test Nifty 500 & real Interests Rate of India is linear relationship\n",
    "Set up our hypotheses and the significance level\\\n",
    "*alpha = 0.05* (significant level)\\\n",
    "*Ho: There is no linearity between the* **Nifty 500** and **real Interests Rate of India** \\\n",
    "*Ha: There is linearity between the* **Nifty 500** and **real Interests Rate of India** \\\n",
    "Similarly, for the other variables,  we set the corresponding **Ho**s and **Ha**s. We will not repeat the defination of their hypotheses here."
   ]
  },
  {
   "cell_type": "markdown",
   "metadata": {},
   "source": [
    "To perform the test, we run a linear regression model to fit our data."
   ]
  },
  {
   "cell_type": "code",
   "execution_count": 268,
   "metadata": {},
   "outputs": [
    {
     "data": {
      "text/html": [
       "<table class=\"simpletable\">\n",
       "<caption>OLS Regression Results</caption>\n",
       "<tr>\n",
       "  <th>Dep. Variable:</th>          <td>Close</td>      <th>  R-squared (uncentered):</th>      <td>   0.991</td> \n",
       "</tr>\n",
       "<tr>\n",
       "  <th>Model:</th>                   <td>OLS</td>       <th>  Adj. R-squared (uncentered):</th> <td>   0.991</td> \n",
       "</tr>\n",
       "<tr>\n",
       "  <th>Method:</th>             <td>Least Squares</td>  <th>  F-statistic:       </th>          <td>   3808.</td> \n",
       "</tr>\n",
       "<tr>\n",
       "  <th>Date:</th>             <td>Thu, 13 May 2021</td> <th>  Prob (F-statistic):</th>          <td>6.99e-137</td>\n",
       "</tr>\n",
       "<tr>\n",
       "  <th>Time:</th>                 <td>01:34:09</td>     <th>  Log-Likelihood:    </th>          <td> -1030.8</td> \n",
       "</tr>\n",
       "<tr>\n",
       "  <th>No. Observations:</th>      <td>   138</td>      <th>  AIC:               </th>          <td>   2070.</td> \n",
       "</tr>\n",
       "<tr>\n",
       "  <th>Df Residuals:</th>          <td>   134</td>      <th>  BIC:               </th>          <td>   2081.</td> \n",
       "</tr>\n",
       "<tr>\n",
       "  <th>Df Model:</th>              <td>     4</td>      <th>                     </th>              <td> </td>    \n",
       "</tr>\n",
       "<tr>\n",
       "  <th>Covariance Type:</th>      <td>nonrobust</td>    <th>                     </th>              <td> </td>    \n",
       "</tr>\n",
       "</table>\n",
       "<table class=\"simpletable\">\n",
       "<tr>\n",
       "          <td></td>            <th>coef</th>     <th>std err</th>      <th>t</th>      <th>P>|t|</th>  <th>[0.025</th>    <th>0.975]</th>  \n",
       "</tr>\n",
       "<tr>\n",
       "  <th>SP500</th>            <td>    1.4917</td> <td>    0.239</td> <td>    6.237</td> <td> 0.000</td> <td>    1.019</td> <td>    1.965</td>\n",
       "</tr>\n",
       "<tr>\n",
       "  <th>gdp</th>              <td>    1.5658</td> <td>    0.093</td> <td>   16.896</td> <td> 0.000</td> <td>    1.382</td> <td>    1.749</td>\n",
       "</tr>\n",
       "<tr>\n",
       "  <th> INR/USD-Average</th> <td>  -96.8948</td> <td>    6.683</td> <td>  -14.499</td> <td> 0.000</td> <td> -110.112</td> <td>  -83.678</td>\n",
       "</tr>\n",
       "<tr>\n",
       "  <th>interestRate</th>     <td>    4.0352</td> <td>   36.969</td> <td>    0.109</td> <td> 0.913</td> <td>  -69.082</td> <td>   77.153</td>\n",
       "</tr>\n",
       "</table>\n",
       "<table class=\"simpletable\">\n",
       "<tr>\n",
       "  <th>Omnibus:</th>       <td>19.419</td> <th>  Durbin-Watson:     </th> <td>   0.603</td>\n",
       "</tr>\n",
       "<tr>\n",
       "  <th>Prob(Omnibus):</th> <td> 0.000</td> <th>  Jarque-Bera (JB):  </th> <td>  31.785</td>\n",
       "</tr>\n",
       "<tr>\n",
       "  <th>Skew:</th>          <td> 0.686</td> <th>  Prob(JB):          </th> <td>1.25e-07</td>\n",
       "</tr>\n",
       "<tr>\n",
       "  <th>Kurtosis:</th>      <td> 4.909</td> <th>  Cond. No.          </th> <td>4.88e+03</td>\n",
       "</tr>\n",
       "</table><br/><br/>Notes:<br/>[1] R² is computed without centering (uncentered) since the model does not contain a constant.<br/>[2] Standard Errors assume that the covariance matrix of the errors is correctly specified.<br/>[3] The condition number is large, 4.88e+03. This might indicate that there are<br/>strong multicollinearity or other numerical problems."
      ],
      "text/plain": [
       "<class 'statsmodels.iolib.summary.Summary'>\n",
       "\"\"\"\n",
       "                                 OLS Regression Results                                \n",
       "=======================================================================================\n",
       "Dep. Variable:                  Close   R-squared (uncentered):                   0.991\n",
       "Model:                            OLS   Adj. R-squared (uncentered):              0.991\n",
       "Method:                 Least Squares   F-statistic:                              3808.\n",
       "Date:                Thu, 13 May 2021   Prob (F-statistic):                   6.99e-137\n",
       "Time:                        01:34:09   Log-Likelihood:                         -1030.8\n",
       "No. Observations:                 138   AIC:                                      2070.\n",
       "Df Residuals:                     134   BIC:                                      2081.\n",
       "Df Model:                           4                                                  \n",
       "Covariance Type:            nonrobust                                                  \n",
       "====================================================================================\n",
       "                       coef    std err          t      P>|t|      [0.025      0.975]\n",
       "------------------------------------------------------------------------------------\n",
       "SP500                1.4917      0.239      6.237      0.000       1.019       1.965\n",
       "gdp                  1.5658      0.093     16.896      0.000       1.382       1.749\n",
       " INR/USD-Average   -96.8948      6.683    -14.499      0.000    -110.112     -83.678\n",
       "interestRate         4.0352     36.969      0.109      0.913     -69.082      77.153\n",
       "==============================================================================\n",
       "Omnibus:                       19.419   Durbin-Watson:                   0.603\n",
       "Prob(Omnibus):                  0.000   Jarque-Bera (JB):               31.785\n",
       "Skew:                           0.686   Prob(JB):                     1.25e-07\n",
       "Kurtosis:                       4.909   Cond. No.                     4.88e+03\n",
       "==============================================================================\n",
       "\n",
       "Notes:\n",
       "[1] R² is computed without centering (uncentered) since the model does not contain a constant.\n",
       "[2] Standard Errors assume that the covariance matrix of the errors is correctly specified.\n",
       "[3] The condition number is large, 4.88e+03. This might indicate that there are\n",
       "strong multicollinearity or other numerical problems.\n",
       "\"\"\""
      ]
     },
     "execution_count": 268,
     "metadata": {},
     "output_type": "execute_result"
    }
   ],
   "source": [
    "# split depending variables and the output variable.\n",
    "X = all_df[['SP500', 'gdp', ' INR/USD-Average', 'interestRate']]\n",
    "model = sm.OLS(all_df['Close'], X)\n",
    "results = model.fit()\n",
    "results.summary()"
   ]
  },
  {
   "cell_type": "markdown",
   "metadata": {},
   "source": [
    "We already set up the significant level *alpha = 0.05*. Therefore, we could reject the corresponding Ho and accept the corresponding Ha when the P-value of each the variable is less than 0.05. The above table shows that the P-values of **SP500**, **gdp** and **INR/USD-Average** are all roughly 0, less than 0.05, which means we could rejet *Ho*s and accept *Ha*s in these cases. However, the P-value of **interestRate** is 0.913 which is much greater than 0.05, thus we fail to reject Ho in this case. In other words, there is no linearity between the **Nifty 500** and **real Interests Rate of India** \\"
   ]
  },
  {
   "cell_type": "markdown",
   "metadata": {},
   "source": [
    "## 8. Machine Learning\n",
    "Now, it is the time that ML comes to the picture. In our case, we will run regression model on NIFTY 500 Index to predict its future price trend. Note that we will only use the the variables which are highly related to  NIFTY 500 Index. They are **SP500**, **gdp** and **INR/USD-Average**. Then we will calculate several important measurements to determine whether our prediction is accurate or not."
   ]
  },
  {
   "cell_type": "markdown",
   "metadata": {},
   "source": [
    "### 8.1. Spliting Data\n",
    "Since all variables we will use to predict the India's stock index value are numerical, we don't need to perform any extra data standarlization stratogy. Accordingly, we could move on to the next step which is data spliting. \\\n",
    "The size of our dataset is 138 which is not a large one. Thus we split 80% of the dataset as training set and 20% of it used for testing. That is, most of the data is used to train the model."
   ]
  },
  {
   "cell_type": "code",
   "execution_count": 269,
   "metadata": {},
   "outputs": [
    {
     "data": {
      "text/plain": [
       "((138, 4), (138,))"
      ]
     },
     "execution_count": 269,
     "metadata": {},
     "output_type": "execute_result"
    }
   ],
   "source": [
    "# Sepratating & assigning features and target columns to X & y\n",
    "X = all_df[['SP500', 'gdp', ' INR/USD-Average', 'interestRate']]\n",
    "y = all_df['Close']\n",
    "# show shapes of X and y\n",
    "X.shape, y.shape"
   ]
  },
  {
   "cell_type": "code",
   "execution_count": 270,
   "metadata": {},
   "outputs": [
    {
     "data": {
      "text/plain": [
       "((110, 4), (28, 4))"
      ]
     },
     "execution_count": 270,
     "metadata": {},
     "output_type": "execute_result"
    }
   ],
   "source": [
    "from sklearn.model_selection import train_test_split\n",
    "# split the data into Training set and test set\n",
    "X_train, X_test, y_train, y_test = train_test_split(X, y, test_size = 0.2, random_state = 12)\n",
    "X_train.shape, X_test.shape"
   ]
  },
  {
   "cell_type": "markdown",
   "metadata": {},
   "source": [
    "### 8.2. Model Building and Training\n",
    "In this section, we will buid and train a ML model. According to the prior discussion, there are linear relationship between variables **SP500**, **gdp**, **INR/USD-Average** and the target value **Close**. Therefore, we first consider a Linear Regression model. Then, try another model Decision Tree."
   ]
  },
  {
   "cell_type": "markdown",
   "metadata": {},
   "source": [
    "#### Linear Regression\n",
    "Linear regression, or ordinary least squares (OLS), is the simplest and most classic linear method for regression. It fits a linear model with coefficients w = (w1, …, wp) to minimize the residual sum of squares between the observed targets in the trainging dataset (**X_train & y_train**), and the targets predicted by the linear approximation. Many libraries in python prvoide LinearRegression method, they are all very convenient to use. In this tutorial, we choose the LinearRegression method in **sklearn**."
   ]
  },
  {
   "cell_type": "code",
   "execution_count": 271,
   "metadata": {},
   "outputs": [
    {
     "data": {
      "text/plain": [
       "LinearRegression()"
      ]
     },
     "execution_count": 271,
     "metadata": {},
     "output_type": "execute_result"
    }
   ],
   "source": [
    "from sklearn.linear_model import LinearRegression\n",
    "# instantiate the model\n",
    "lr = LinearRegression()\n",
    "# fit the model \n",
    "lr.fit(X_train, y_train)"
   ]
  },
  {
   "cell_type": "markdown",
   "metadata": {},
   "source": [
    "#### Test and Evaluate the Model\n",
    "Perform the model on the test dataset, and evaluate the model by calculating accuracy and mean_squared_error. "
   ]
  },
  {
   "cell_type": "code",
   "execution_count": 287,
   "metadata": {},
   "outputs": [
    {
     "name": "stdout",
     "output_type": "stream",
     "text": [
      "Linear Regression: Accuracy on training Data: 0.969\n",
      "Linear Regression: Accuracy on test Data: 0.969\n",
      "\n",
      "Linear Regression: The RMSE of the training set is: 0.10874267315928107\n",
      "Linear Regression: The RMSE of the testing set is: 0.11904683302794344\n"
     ]
    }
   ],
   "source": [
    "from sklearn.metrics import mean_squared_error\n",
    "#predicting the target value from the model for the samples\n",
    "y_test_lr = lr.predict(X_test)\n",
    "y_train_lr = lr.predict(X_train)\n",
    "\n",
    "#computing the accuracy of the model performance\n",
    "acc_train_lr = lr.score(X_train, y_train)\n",
    "acc_test_lr = lr.score(X_test, y_test)\n",
    "\n",
    "#computing root mean squared error (RMSE)\n",
    "rmse_train_lr = np.sqrt(mean_squared_error(y_train, y_train_lr))\n",
    "rmse_test_lr = np.sqrt(mean_squared_error(y_test, y_test_lr))\n",
    "\n",
    "print(\"Linear Regression: Accuracy on training Data: {:.3f}\".format(acc_train_lr))\n",
    "print(\"Linear Regression: Accuracy on test Data: {:.3f}\".format(acc_test_lr))\n",
    "print('\\nLinear Regression: The RMSE/average_indext of the training set is:', rmse_train_lr/y_train.values.mean())\n",
    "print('Linear Regression: The RMSE/average_index of the testing set is:', rmse_test_lr/y_test.values.mean())"
   ]
  },
  {
   "cell_type": "markdown",
   "metadata": {},
   "source": [
    "The accuracy of the training set is 96.9% and the accuracy of the test set is 96.9%. Thus, the model have a pretty good performance on the unseen data. Also, the RMSE/average_indexs of the model on the training set and test set is 0.10874267315928107 and  0.11904683302794344, respectively. This proves once again that the model has good generalization ability. \\\n",
    "There is one thing that needs special explanation, the reason we use RMSE/average_index instead of RMSE is that the value range of *Close* is not [0, 1] but [579.5, 9687.5]. Thus, the value of RMSE will be quite large and it will be difficult for us to determine whether the model is good or not. Thus, we nomalize it by dividing its value by the mean of Close."
   ]
  },
  {
   "cell_type": "markdown",
   "metadata": {},
   "source": [
    "For a explicit visualization, we next provide the density of Residuals plots of both test dataset and training dataset."
   ]
  },
  {
   "cell_type": "code",
   "execution_count": 293,
   "metadata": {},
   "outputs": [
    {
     "name": "stderr",
     "output_type": "stream",
     "text": [
      "C:\\Users\\Aubrey\\anaconda3\\lib\\site-packages\\seaborn\\distributions.py:2551: FutureWarning: `distplot` is a deprecated function and will be removed in a future version. Please adapt your code to use either `displot` (a figure-level function with similar flexibility) or `histplot` (an axes-level function for histograms).\n",
      "  warnings.warn(msg, FutureWarning)\n"
     ]
    },
    {
     "data": {
      "text/plain": [
       "0.9688222754214733"
      ]
     },
     "execution_count": 293,
     "metadata": {},
     "output_type": "execute_result"
    },
    {
     "data": {
      "image/png": "[encoded data removed]",
      "text/plain": [
       "<Figure size 576x396 with 1 Axes>"
      ]
     },
     "metadata": {},
     "output_type": "display_data"
    }
   ],
   "source": [
    "y_hat = lr.predict(X_train)\n",
    "sns.distplot(y_train - y_hat)\n",
    "plt.title(\"Residuals\", size=18)\n",
    "lr.score(X_train,y_train)"
   ]
  },
  {
   "cell_type": "code",
   "execution_count": 294,
   "metadata": {},
   "outputs": [
    {
     "name": "stderr",
     "output_type": "stream",
     "text": [
      "C:\\Users\\Aubrey\\anaconda3\\lib\\site-packages\\seaborn\\distributions.py:2551: FutureWarning: `distplot` is a deprecated function and will be removed in a future version. Please adapt your code to use either `displot` (a figure-level function with similar flexibility) or `histplot` (an axes-level function for histograms).\n",
      "  warnings.warn(msg, FutureWarning)\n"
     ]
    },
    {
     "data": {
      "text/plain": [
       "0.9689401703845689"
      ]
     },
     "execution_count": 294,
     "metadata": {},
     "output_type": "execute_result"
    },
    {
     "data": {
      "image/png": "[encoded data removed]",
      "text/plain": [
       "<Figure size 576x396 with 1 Axes>"
      ]
     },
     "metadata": {},
     "output_type": "display_data"
    }
   ],
   "source": [
    "y_hat = lr.predict(X_test)\n",
    "sns.distplot(y_test - y_hat)\n",
    "plt.title(\"Residuals\", size=18)\n",
    "lr.score(X_test,y_test)"
   ]
  },
  {
   "cell_type": "markdown",
   "metadata": {},
   "source": [
    "#### Decision Tree Regression\n",
    "The decision trees is used to fit a sine curve with addition noisy observation. As a result, it learns local linear regressions approximating the sine curve.\n",
    "\n",
    "If the maximum depth of the tree (controlled by the max_depth parameter) is set too high, the decision trees learn too fine details of the training data and learn from the noise, i.e. they overfit. Since we have only 4 variables used for predicting, we set the max_depth is 3."
   ]
  },
  {
   "cell_type": "code",
   "execution_count": 304,
   "metadata": {},
   "outputs": [
    {
     "name": "stdout",
     "output_type": "stream",
     "text": [
      "Decision Tree: Accuracy on training Data: 0.968\n",
      "Decision Tree: Accuracy on test Data: 0.967\n",
      "\n",
      "Decision Tree: The RMSE/Close_index of the training set is: 0.11093080606365531\n",
      "Decision Tree: The RMSE/Close_index of the testing set is: 0.12203457958824461\n"
     ]
    }
   ],
   "source": [
    "from sklearn.tree import DecisionTreeRegressor\n",
    "\n",
    "# instantiate the model \n",
    "tree = DecisionTreeRegressor(max_depth=3)\n",
    "# fit the model \n",
    "tree.fit(X_train, y_train)\n",
    "\n",
    "#predicting the target value from the model for the samples\n",
    "y_test_tree = tree.predict(X_test)\n",
    "y_train_tree = tree.predict(X_train)\n",
    "\n",
    "#computing the accuracy of the model performance\n",
    "acc_train_tree = tree.score(X_train, y_train)\n",
    "acc_test_tree = tree.score(X_test, y_test)\n",
    "\n",
    "#computing root mean squared error (RMSE)\n",
    "rmse_train_tree = np.sqrt(mean_squared_error(y_train, y_train_tree))\n",
    "rmse_test_tree = np.sqrt(mean_squared_error(y_test, y_test_tree))\n",
    "\n",
    "print(\"Decision Tree: Accuracy on training Data: {:.3f}\".format(acc_train_tree))\n",
    "print(\"Decision Tree: Accuracy on test Data: {:.3f}\".format(acc_test_tree))\n",
    "print('\\nDecision Tree: The RMSE/Close_index of the training set is:', rmse_train_tree/y_train.values.mean())\n",
    "print('Decision Tree: The RMSE/Close_index of the testing set is:', rmse_test_tree/y_test.values.mean())"
   ]
  },
  {
   "cell_type": "code",
   "execution_count": 302,
   "metadata": {},
   "outputs": [
    {
     "data": {
      "text/plain": [
       "[Text(223.2, 261.6075, 'X[0] <= 1843.31\\nmse = 5795205.958\\nsamples = 110\\nvalue = 3908.919'),\n",
       " Text(111.6, 186.8625, 'X[1] <= 3185.36\\nmse = 2335080.806\\nsamples = 85\\nvalue = 2868.321'),\n",
       " Text(55.8, 112.1175, 'X[2] <= 45.3\\nmse = 226525.25\\nsamples = 35\\nvalue = 1222.182'),\n",
       " Text(27.9, 37.3725, 'mse = 96965.409\\nsamples = 14\\nvalue = 1718.389'),\n",
       " Text(83.69999999999999, 37.3725, 'mse = 39318.529\\nsamples = 21\\nvalue = 891.377'),\n",
       " Text(167.39999999999998, 112.1175, 'X[1] <= 4193.267\\nmse = 586439.135\\nsamples = 50\\nvalue = 4020.618'),\n",
       " Text(139.5, 37.3725, 'mse = 593465.536\\nsamples = 22\\nvalue = 3431.134'),\n",
       " Text(195.29999999999998, 37.3725, 'mse = 93366.852\\nsamples = 28\\nvalue = 4483.784'),\n",
       " Text(334.79999999999995, 186.8625, 'X[0] <= 2400.405\\nmse = 1360281.611\\nsamples = 25\\nvalue = 7446.952'),\n",
       " Text(279.0, 112.1175, 'X[0] <= 2089.375\\nmse = 333104.046\\nsamples = 18\\nvalue = 6800.514'),\n",
       " Text(251.1, 37.3725, 'mse = 188222.093\\nsamples = 10\\nvalue = 6407.625'),\n",
       " Text(306.9, 37.3725, 'mse = 80064.266\\nsamples = 8\\nvalue = 7291.625'),\n",
       " Text(390.59999999999997, 112.1175, 'X[0] <= 2543.225\\nmse = 163901.386\\nsamples = 7\\nvalue = 9109.221'),\n",
       " Text(362.7, 37.3725, 'mse = 37655.402\\nsamples = 2\\nvalue = 8561.2'),\n",
       " Text(418.5, 37.3725, 'mse = 46216.387\\nsamples = 5\\nvalue = 9328.43')]"
      ]
     },
     "execution_count": 302,
     "metadata": {},
     "output_type": "execute_result"
    },
    {
     "data": {
      "image/png": "[encoded data removed]",
      "text/plain": [
       "<Figure size 576x396 with 1 Axes>"
      ]
     },
     "metadata": {},
     "output_type": "display_data"
    }
   ],
   "source": [
    "from sklearn.tree import plot_tree\n",
    "plot_tree(tree)  "
   ]
  },
  {
   "cell_type": "markdown",
   "metadata": {},
   "source": [
    "According to the values of Accuracy and RMSE/Close_index, the model performs well on both the training set and test set."
   ]
  },
  {
   "cell_type": "markdown",
   "metadata": {},
   "source": [
    "## 9. Conclusion\n",
    "This tutorial aims to take us walk through a general Data Science Pipeline. A data science pipeline is the set of processes that convert raw data into actionable answers to business questions. It contains several core steps which have been illustrated in the prior sections. \\\n",
    "Recap the process, we first load the data from 5 different sources. Secondly, tidy the data by intergrating these tables. In this part, unite the data type and column names are highly important. Thridly, to deal with the missing values, we check for missing data (only INR/USD-Average\tcontains NaNs, and most of its values follow a linear increase or decrease) then fill them with linear interpolation. Fourly, use EDA approch to detect the relationship between each variables (*GDP PPP India*, *Real Interests Rate of India, The Exchange Rate between INR & USD*, and *S&P 500*) and the target feature (*Nifty 500*), check whether they are linear correlation or not. It turns out that *Nifty 500* and 3 variables (*GDP PPP India*, *The Exchange Rate between INR & USD*, and *S&P 500*) have highly possitive correlations. However, the relationship between *Nifty 500* and *Real Interests Rate of India* is weaker and negative. Fifth, according to the gains from EDA, we test if the linear correlations are true by performing Hypothesis testing. The result is that *Nifty 500* and 3 variables (*GDP PPP India*, *The Exchange Rate between INR & USD*, and *S&P 500*) are linear correlation, but *Nifty 500* and *Real Interests Rate of India*  is not linear correlation. Lastly, we build two regression models (LinearRegression and DecisionTree Regressor) to fit the training dataset and perform them on the test dataset. This shows that both models performed very well on the training set and the test set. That is to say, they have strong generalization ability, and there is no obvious over-fitting phenomenon.\\\n",
    "In gerneral, this tutorial is good example to explain the Data Science Pipeline. However, there are few more works we can do in the futher. For example, the time unit of some variables is year, so in order to expand the data set and refine the data granularity, we can collect data in units of days. There are always something more we could do during the the Data Science Process. Hope you enjoy this tutorial!"
   ]
  },
  {
   "cell_type": "markdown",
   "metadata": {},
   "source": [
    "## 10. Reference\n",
    "#### To check the detail of the datasets used in this tutorial:\n",
    "A. NIFTY 500 Index (2000-2019) from https://www.kaggle.com/sudalairajkumar/nifty-indices\u0002dataset?select=NIFTY+500.csv . We only need the close value column from the table. \\\n",
    "B. GDP PPP of India (2000-2019) from https://www.kaggle.com/nitishabharathi/gdp-per\u0002capita-all-countries. We only need the India row from the table. \\\n",
    "C. Real interest rate of India (2000-2019) from https://databank.worldbank.org/reports.aspx?\n",
    "source=2&series=FR.INR.RINR&country=IND \\\n",
    "D. The exchange rate of the Indian Rupee(INR)(2000-2019) from https://\n",
    "www.indiamacroadvisors.com/page/category/economic-indicators/financial-markets/\n",
    "exchange-rate/ \\\n",
    "E. The S & P 500 Index (2000-2019) from https://datahub.io/core/s-and-p-500. We only need \n",
    "the SP500 column from the table. \n",
    "\n",
    "#### To learn more about a given topic check the following links:\n",
    "[1] Decision Tree and its plots \\\n",
    "https://scikit-learn.org/stable/auto_examples/tree/plot_tree_regression.html \\\n",
    "[2] Linear Regression \\\n",
    "https://scikit-learn.org/stable/modules/generated/sklearn.linear_model.LinearRegression.html \\\n",
    "https://www.statsmodels.org/stable/examples/notebooks/generated/ols.html \\\n",
    "[3] Data Science Pipeline \\\n",
    "https://www.snowflake.com/guides/data-science-pipeline#:~:text=A%20data%20science%20pipeline%20is,insights%20for%20making%20business%20decisions."
   ]
  },
  {
   "cell_type": "code",
   "execution_count": null,
   "metadata": {},
   "outputs": [],
   "source": []
  }
 ],
 "metadata": {
  "kernelspec": {
   "display_name": "Python 3",
   "language": "python",
   "name": "python3"
  },
  "language_info": {
   "codemirror_mode": {
    "name": "ipython",
    "version": 3
   },
   "file_extension": ".py",
   "mimetype": "text/x-python",
   "name": "python",
   "nbconvert_exporter": "python",
   "pygments_lexer": "ipython3",
   "version": "3.8.5"
  }
 },
 "nbformat": 4,
 "nbformat_minor": 4
}
